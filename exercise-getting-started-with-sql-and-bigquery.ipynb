{
 "cells": [
  {
   "cell_type": "markdown",
   "id": "944e8f83",
   "metadata": {
    "papermill": {
     "duration": 0.006024,
     "end_time": "2024-09-03T09:18:40.200234",
     "exception": false,
     "start_time": "2024-09-03T09:18:40.194210",
     "status": "completed"
    },
    "tags": []
   },
   "source": [
    "**This notebook is an exercise in the [SQL](https://www.kaggle.com/learn/intro-to-sql) course.  You can reference the tutorial at [this link](https://www.kaggle.com/dansbecker/getting-started-with-sql-and-bigquery).**\n",
    "\n",
    "---\n"
   ]
  },
  {
   "cell_type": "markdown",
   "id": "2c3b646c",
   "metadata": {
    "papermill": {
     "duration": 0.005517,
     "end_time": "2024-09-03T09:18:40.211224",
     "exception": false,
     "start_time": "2024-09-03T09:18:40.205707",
     "status": "completed"
    },
    "tags": []
   },
   "source": [
    "# Introduction\n",
    "\n",
    "The first test of your new data exploration skills uses data describing crime in the city of Chicago.\n",
    "\n",
    "Before you get started, run the following cell. It sets up the automated feedback system to review your answers."
   ]
  },
  {
   "cell_type": "code",
   "execution_count": 1,
   "id": "7f48c355",
   "metadata": {
    "execution": {
     "iopub.execute_input": "2024-09-03T09:18:40.224286Z",
     "iopub.status.busy": "2024-09-03T09:18:40.223834Z",
     "iopub.status.idle": "2024-09-03T09:18:49.846802Z",
     "shell.execute_reply": "2024-09-03T09:18:49.845623Z"
    },
    "papermill": {
     "duration": 9.632194,
     "end_time": "2024-09-03T09:18:49.849250",
     "exception": false,
     "start_time": "2024-09-03T09:18:40.217056",
     "status": "completed"
    },
    "tags": []
   },
   "outputs": [
    {
     "name": "stdout",
     "output_type": "stream",
     "text": [
      "Using Kaggle's public dataset BigQuery integration.\n",
      "Setup Complete\n"
     ]
    }
   ],
   "source": [
    "# Set up feedack system\n",
    "from learntools.core import binder\n",
    "binder.bind(globals())\n",
    "from learntools.sql.ex1 import *\n",
    "print(\"Setup Complete\")"
   ]
  },
  {
   "cell_type": "markdown",
   "id": "148c25dc",
   "metadata": {
    "papermill": {
     "duration": 0.005213,
     "end_time": "2024-09-03T09:18:49.860151",
     "exception": false,
     "start_time": "2024-09-03T09:18:49.854938",
     "status": "completed"
    },
    "tags": []
   },
   "source": [
    "Use the next code cell to fetch the dataset."
   ]
  },
  {
   "cell_type": "code",
   "execution_count": 2,
   "id": "0b4ae218",
   "metadata": {
    "execution": {
     "iopub.execute_input": "2024-09-03T09:18:49.873464Z",
     "iopub.status.busy": "2024-09-03T09:18:49.872855Z",
     "iopub.status.idle": "2024-09-03T09:18:51.136918Z",
     "shell.execute_reply": "2024-09-03T09:18:51.135687Z"
    },
    "papermill": {
     "duration": 1.273876,
     "end_time": "2024-09-03T09:18:51.139646",
     "exception": false,
     "start_time": "2024-09-03T09:18:49.865770",
     "status": "completed"
    },
    "tags": []
   },
   "outputs": [
    {
     "name": "stdout",
     "output_type": "stream",
     "text": [
      "Using Kaggle's public dataset BigQuery integration.\n"
     ]
    }
   ],
   "source": [
    "from google.cloud import bigquery\n",
    "\n",
    "# Create a \"Client\" object\n",
    "client = bigquery.Client()\n",
    "\n",
    "# Construct a reference to the \"chicago_crime\" dataset\n",
    "dataset_ref = client.dataset(\"chicago_crime\", project=\"bigquery-public-data\")\n",
    "\n",
    "# API request - fetch the dataset\n",
    "dataset = client.get_dataset(dataset_ref)"
   ]
  },
  {
   "cell_type": "markdown",
   "id": "733d822f",
   "metadata": {
    "papermill": {
     "duration": 0.005446,
     "end_time": "2024-09-03T09:18:51.150958",
     "exception": false,
     "start_time": "2024-09-03T09:18:51.145512",
     "status": "completed"
    },
    "tags": []
   },
   "source": [
    "# Exercises\n",
    "\n",
    "### 1) Count tables in the dataset\n",
    "\n",
    "How many tables are in the Chicago Crime dataset?"
   ]
  },
  {
   "cell_type": "code",
   "execution_count": 3,
   "id": "44644ae9",
   "metadata": {
    "execution": {
     "iopub.execute_input": "2024-09-03T09:18:51.163971Z",
     "iopub.status.busy": "2024-09-03T09:18:51.163480Z",
     "iopub.status.idle": "2024-09-03T09:18:52.109513Z",
     "shell.execute_reply": "2024-09-03T09:18:52.108085Z"
    },
    "papermill": {
     "duration": 0.955753,
     "end_time": "2024-09-03T09:18:52.112341",
     "exception": false,
     "start_time": "2024-09-03T09:18:51.156588",
     "status": "completed"
    },
    "tags": []
   },
   "outputs": [
    {
     "name": "stdout",
     "output_type": "stream",
     "text": [
      "1\n"
     ]
    }
   ],
   "source": [
    "# Write the code you need here to figure out the answer\n",
    "tables = list(client.list_tables(dataset))\n",
    "print(len(tables))"
   ]
  },
  {
   "cell_type": "code",
   "execution_count": 4,
   "id": "d0a2d9d3",
   "metadata": {
    "execution": {
     "iopub.execute_input": "2024-09-03T09:18:52.126703Z",
     "iopub.status.busy": "2024-09-03T09:18:52.126276Z",
     "iopub.status.idle": "2024-09-03T09:18:52.138023Z",
     "shell.execute_reply": "2024-09-03T09:18:52.136756Z"
    },
    "papermill": {
     "duration": 0.022433,
     "end_time": "2024-09-03T09:18:52.140669",
     "exception": false,
     "start_time": "2024-09-03T09:18:52.118236",
     "status": "completed"
    },
    "tags": []
   },
   "outputs": [
    {
     "data": {
      "application/javascript": [
       "parent.postMessage({\"jupyterEvent\": \"custom.exercise_interaction\", \"data\": {\"outcomeType\": 1, \"valueTowardsCompletion\": 0.3333333333333333, \"interactionType\": 1, \"questionType\": 1, \"questionId\": \"1_CountTables\", \"learnToolsVersion\": \"0.3.4\", \"failureMessage\": \"\", \"exceptionClass\": \"\", \"trace\": \"\"}}, \"*\")"
      ],
      "text/plain": [
       "<IPython.core.display.Javascript object>"
      ]
     },
     "metadata": {},
     "output_type": "display_data"
    },
    {
     "data": {
      "text/markdown": [
       "<span style=\"color:#33cc33\">Correct</span>"
      ],
      "text/plain": [
       "Correct"
      ]
     },
     "metadata": {},
     "output_type": "display_data"
    }
   ],
   "source": [
    "num_tables = len(tables)  # Store the answer as num_tables and then run this cell\n",
    "\n",
    "# Check your answer\n",
    "q_1.check()"
   ]
  },
  {
   "cell_type": "markdown",
   "id": "5a0d129f",
   "metadata": {
    "papermill": {
     "duration": 0.005609,
     "end_time": "2024-09-03T09:18:52.152373",
     "exception": false,
     "start_time": "2024-09-03T09:18:52.146764",
     "status": "completed"
    },
    "tags": []
   },
   "source": [
    "For a hint or the solution, uncomment the appropriate line below."
   ]
  },
  {
   "cell_type": "code",
   "execution_count": 5,
   "id": "4e0e9465",
   "metadata": {
    "execution": {
     "iopub.execute_input": "2024-09-03T09:18:52.165879Z",
     "iopub.status.busy": "2024-09-03T09:18:52.165437Z",
     "iopub.status.idle": "2024-09-03T09:18:52.179658Z",
     "shell.execute_reply": "2024-09-03T09:18:52.178510Z"
    },
    "papermill": {
     "duration": 0.023988,
     "end_time": "2024-09-03T09:18:52.182253",
     "exception": false,
     "start_time": "2024-09-03T09:18:52.158265",
     "status": "completed"
    },
    "tags": []
   },
   "outputs": [
    {
     "data": {
      "application/javascript": [
       "parent.postMessage({\"jupyterEvent\": \"custom.exercise_interaction\", \"data\": {\"interactionType\": 2, \"questionType\": 1, \"questionId\": \"1_CountTables\", \"learnToolsVersion\": \"0.3.4\", \"valueTowardsCompletion\": 0.0, \"failureMessage\": \"\", \"exceptionClass\": \"\", \"trace\": \"\", \"outcomeType\": 4}}, \"*\")"
      ],
      "text/plain": [
       "<IPython.core.display.Javascript object>"
      ]
     },
     "metadata": {},
     "output_type": "display_data"
    },
    {
     "data": {
      "text/markdown": [
       "<span style=\"color:#3366cc\">Hint:</span> Use the `list_tables()` method to get a list of the tables in the dataset."
      ],
      "text/plain": [
       "Hint: Use the `list_tables()` method to get a list of the tables in the dataset."
      ]
     },
     "metadata": {},
     "output_type": "display_data"
    },
    {
     "data": {
      "application/javascript": [
       "parent.postMessage({\"jupyterEvent\": \"custom.exercise_interaction\", \"data\": {\"interactionType\": 3, \"questionType\": 1, \"questionId\": \"1_CountTables\", \"learnToolsVersion\": \"0.3.4\", \"valueTowardsCompletion\": 0.0, \"failureMessage\": \"\", \"exceptionClass\": \"\", \"trace\": \"\", \"outcomeType\": 4}}, \"*\")"
      ],
      "text/plain": [
       "<IPython.core.display.Javascript object>"
      ]
     },
     "metadata": {},
     "output_type": "display_data"
    },
    {
     "data": {
      "text/markdown": [
       "<span style=\"color:#33cc99\">Solution:</span> \n",
       "```python\n",
       "\n",
       "# List all the tables in the \"chicago_crime\" dataset\n",
       "tables = list(client.list_tables(dataset))\n",
       "\n",
       "# Print number of tables in the dataset\n",
       "print(len(tables))\n",
       "\n",
       "num_tables = 1\n",
       "\n",
       "```"
      ],
      "text/plain": [
       "Solution: \n",
       "```python\n",
       "\n",
       "# List all the tables in the \"chicago_crime\" dataset\n",
       "tables = list(client.list_tables(dataset))\n",
       "\n",
       "# Print number of tables in the dataset\n",
       "print(len(tables))\n",
       "\n",
       "num_tables = 1\n",
       "\n",
       "```"
      ]
     },
     "metadata": {},
     "output_type": "display_data"
    }
   ],
   "source": [
    "q_1.hint()\n",
    "q_1.solution()"
   ]
  },
  {
   "cell_type": "markdown",
   "id": "25a44ecc",
   "metadata": {
    "papermill": {
     "duration": 0.006198,
     "end_time": "2024-09-03T09:18:52.195071",
     "exception": false,
     "start_time": "2024-09-03T09:18:52.188873",
     "status": "completed"
    },
    "tags": []
   },
   "source": [
    "### 2) Explore the table schema\n",
    "\n",
    "How many columns in the `crime` table have `TIMESTAMP` data?"
   ]
  },
  {
   "cell_type": "code",
   "execution_count": 6,
   "id": "47057dce",
   "metadata": {
    "execution": {
     "iopub.execute_input": "2024-09-03T09:18:52.210393Z",
     "iopub.status.busy": "2024-09-03T09:18:52.209995Z",
     "iopub.status.idle": "2024-09-03T09:18:53.201243Z",
     "shell.execute_reply": "2024-09-03T09:18:53.199856Z"
    },
    "papermill": {
     "duration": 1.002514,
     "end_time": "2024-09-03T09:18:53.204315",
     "exception": false,
     "start_time": "2024-09-03T09:18:52.201801",
     "status": "completed"
    },
    "tags": []
   },
   "outputs": [
    {
     "name": "stdout",
     "output_type": "stream",
     "text": [
      "[SchemaField('unique_key', 'INTEGER', 'REQUIRED', None, (), None), SchemaField('case_number', 'STRING', 'NULLABLE', None, (), None), SchemaField('date', 'TIMESTAMP', 'NULLABLE', None, (), None), SchemaField('block', 'STRING', 'NULLABLE', None, (), None), SchemaField('iucr', 'STRING', 'NULLABLE', None, (), None), SchemaField('primary_type', 'STRING', 'NULLABLE', None, (), None), SchemaField('description', 'STRING', 'NULLABLE', None, (), None), SchemaField('location_description', 'STRING', 'NULLABLE', None, (), None), SchemaField('arrest', 'BOOLEAN', 'NULLABLE', None, (), None), SchemaField('domestic', 'BOOLEAN', 'NULLABLE', None, (), None), SchemaField('beat', 'INTEGER', 'NULLABLE', None, (), None), SchemaField('district', 'INTEGER', 'NULLABLE', None, (), None), SchemaField('ward', 'INTEGER', 'NULLABLE', None, (), None), SchemaField('community_area', 'INTEGER', 'NULLABLE', None, (), None), SchemaField('fbi_code', 'STRING', 'NULLABLE', None, (), None), SchemaField('x_coordinate', 'FLOAT', 'NULLABLE', None, (), None), SchemaField('y_coordinate', 'FLOAT', 'NULLABLE', None, (), None), SchemaField('year', 'INTEGER', 'NULLABLE', None, (), None), SchemaField('updated_on', 'TIMESTAMP', 'NULLABLE', None, (), None), SchemaField('latitude', 'FLOAT', 'NULLABLE', None, (), None), SchemaField('longitude', 'FLOAT', 'NULLABLE', None, (), None), SchemaField('location', 'STRING', 'NULLABLE', None, (), None)]\n",
      "2\n"
     ]
    }
   ],
   "source": [
    "# Write the code to figure out the answerta\n",
    "table_ref = dataset_ref.table(\"crime\")\n",
    "table = client.get_table(table_ref)\n",
    "print(table.schema)\n",
    "num_timestamp_fields = 0\n",
    "for field in table.schema:\n",
    "    if field.field_type == 'TIMESTAMP':  # Changed here\n",
    "        num_timestamp_fields += 1  # Changed here\n",
    "\n",
    "print(num_timestamp_fields)"
   ]
  },
  {
   "cell_type": "code",
   "execution_count": 7,
   "id": "28e3d0af",
   "metadata": {
    "execution": {
     "iopub.execute_input": "2024-09-03T09:18:53.219478Z",
     "iopub.status.busy": "2024-09-03T09:18:53.219055Z",
     "iopub.status.idle": "2024-09-03T09:18:53.228439Z",
     "shell.execute_reply": "2024-09-03T09:18:53.227284Z"
    },
    "papermill": {
     "duration": 0.019914,
     "end_time": "2024-09-03T09:18:53.231021",
     "exception": false,
     "start_time": "2024-09-03T09:18:53.211107",
     "status": "completed"
    },
    "tags": []
   },
   "outputs": [
    {
     "data": {
      "application/javascript": [
       "parent.postMessage({\"jupyterEvent\": \"custom.exercise_interaction\", \"data\": {\"outcomeType\": 1, \"valueTowardsCompletion\": 0.3333333333333333, \"interactionType\": 1, \"questionType\": 1, \"questionId\": \"2_CountTimestampFields\", \"learnToolsVersion\": \"0.3.4\", \"failureMessage\": \"\", \"exceptionClass\": \"\", \"trace\": \"\"}}, \"*\")"
      ],
      "text/plain": [
       "<IPython.core.display.Javascript object>"
      ]
     },
     "metadata": {},
     "output_type": "display_data"
    },
    {
     "data": {
      "text/markdown": [
       "<span style=\"color:#33cc33\">Correct</span>"
      ],
      "text/plain": [
       "Correct"
      ]
     },
     "metadata": {},
     "output_type": "display_data"
    }
   ],
   "source": [
    "num_timestamp_fields = 2 # Put your answer here\n",
    "\n",
    "# Check your answer\n",
    "q_2.check()"
   ]
  },
  {
   "cell_type": "markdown",
   "id": "aee76363",
   "metadata": {
    "papermill": {
     "duration": 0.006405,
     "end_time": "2024-09-03T09:18:53.244249",
     "exception": false,
     "start_time": "2024-09-03T09:18:53.237844",
     "status": "completed"
    },
    "tags": []
   },
   "source": [
    "For a hint or the solution, uncomment the appropriate line below."
   ]
  },
  {
   "cell_type": "code",
   "execution_count": 8,
   "id": "1968370b",
   "metadata": {
    "execution": {
     "iopub.execute_input": "2024-09-03T09:18:53.259921Z",
     "iopub.status.busy": "2024-09-03T09:18:53.259460Z",
     "iopub.status.idle": "2024-09-03T09:18:53.264456Z",
     "shell.execute_reply": "2024-09-03T09:18:53.263308Z"
    },
    "papermill": {
     "duration": 0.016035,
     "end_time": "2024-09-03T09:18:53.267150",
     "exception": false,
     "start_time": "2024-09-03T09:18:53.251115",
     "status": "completed"
    },
    "tags": []
   },
   "outputs": [],
   "source": [
    "#q_2.hint()\n",
    "#q_2.solution()"
   ]
  },
  {
   "cell_type": "markdown",
   "id": "345385ce",
   "metadata": {
    "papermill": {
     "duration": 0.006471,
     "end_time": "2024-09-03T09:18:53.280914",
     "exception": false,
     "start_time": "2024-09-03T09:18:53.274443",
     "status": "completed"
    },
    "tags": []
   },
   "source": [
    "### 3) Create a crime map\n",
    "\n",
    "If you wanted to create a map with a dot at the location of each crime, what are the names of the two fields you likely need to pull out of the `crime` table to plot the crimes on a map?"
   ]
  },
  {
   "cell_type": "code",
   "execution_count": 9,
   "id": "7cf2e688",
   "metadata": {
    "execution": {
     "iopub.execute_input": "2024-09-03T09:18:53.296957Z",
     "iopub.status.busy": "2024-09-03T09:18:53.296508Z",
     "iopub.status.idle": "2024-09-03T09:18:53.981866Z",
     "shell.execute_reply": "2024-09-03T09:18:53.980949Z"
    },
    "papermill": {
     "duration": 0.695849,
     "end_time": "2024-09-03T09:18:53.984175",
     "exception": false,
     "start_time": "2024-09-03T09:18:53.288326",
     "status": "completed"
    },
    "tags": []
   },
   "outputs": [
    {
     "data": {
      "text/html": [
       "<div>\n",
       "<style scoped>\n",
       "    .dataframe tbody tr th:only-of-type {\n",
       "        vertical-align: middle;\n",
       "    }\n",
       "\n",
       "    .dataframe tbody tr th {\n",
       "        vertical-align: top;\n",
       "    }\n",
       "\n",
       "    .dataframe thead th {\n",
       "        text-align: right;\n",
       "    }\n",
       "</style>\n",
       "<table border=\"1\" class=\"dataframe\">\n",
       "  <thead>\n",
       "    <tr style=\"text-align: right;\">\n",
       "      <th></th>\n",
       "      <th>unique_key</th>\n",
       "      <th>case_number</th>\n",
       "      <th>date</th>\n",
       "      <th>block</th>\n",
       "      <th>iucr</th>\n",
       "      <th>primary_type</th>\n",
       "      <th>description</th>\n",
       "      <th>location_description</th>\n",
       "      <th>arrest</th>\n",
       "      <th>domestic</th>\n",
       "      <th>...</th>\n",
       "      <th>ward</th>\n",
       "      <th>community_area</th>\n",
       "      <th>fbi_code</th>\n",
       "      <th>x_coordinate</th>\n",
       "      <th>y_coordinate</th>\n",
       "      <th>year</th>\n",
       "      <th>updated_on</th>\n",
       "      <th>latitude</th>\n",
       "      <th>longitude</th>\n",
       "      <th>location</th>\n",
       "    </tr>\n",
       "  </thead>\n",
       "  <tbody>\n",
       "    <tr>\n",
       "      <th>0</th>\n",
       "      <td>27642</td>\n",
       "      <td>JG350964</td>\n",
       "      <td>2023-07-22 01:41:00+00:00</td>\n",
       "      <td>000XX E LAKE ST</td>\n",
       "      <td>0110</td>\n",
       "      <td>HOMICIDE</td>\n",
       "      <td>FIRST DEGREE MURDER</td>\n",
       "      <td>STREET</td>\n",
       "      <td>False</td>\n",
       "      <td>False</td>\n",
       "      <td>...</td>\n",
       "      <td>42</td>\n",
       "      <td>32</td>\n",
       "      <td>01A</td>\n",
       "      <td>1176905.0</td>\n",
       "      <td>1901744.0</td>\n",
       "      <td>2023</td>\n",
       "      <td>2023-07-29 15:41:00+00:00</td>\n",
       "      <td>41.885730</td>\n",
       "      <td>-87.625821</td>\n",
       "      <td>(41.885729587, -87.625821329)</td>\n",
       "    </tr>\n",
       "    <tr>\n",
       "      <th>1</th>\n",
       "      <td>12492868</td>\n",
       "      <td>JE386232</td>\n",
       "      <td>2021-09-22 23:59:00+00:00</td>\n",
       "      <td>002XX N WABASH AVE</td>\n",
       "      <td>0265</td>\n",
       "      <td>CRIMINAL SEXUAL ASSAULT</td>\n",
       "      <td>AGGRAVATED - OTHER</td>\n",
       "      <td>HOTEL / MOTEL</td>\n",
       "      <td>False</td>\n",
       "      <td>False</td>\n",
       "      <td>...</td>\n",
       "      <td>42</td>\n",
       "      <td>32</td>\n",
       "      <td>02</td>\n",
       "      <td>1176777.0</td>\n",
       "      <td>1901808.0</td>\n",
       "      <td>2021</td>\n",
       "      <td>2021-09-29 15:41:20+00:00</td>\n",
       "      <td>41.885908</td>\n",
       "      <td>-87.626289</td>\n",
       "      <td>(41.885908101, -87.626289429)</td>\n",
       "    </tr>\n",
       "    <tr>\n",
       "      <th>2</th>\n",
       "      <td>8124180</td>\n",
       "      <td>HT359035</td>\n",
       "      <td>2011-06-21 13:00:00+00:00</td>\n",
       "      <td>005XX W MADISON ST</td>\n",
       "      <td>0312</td>\n",
       "      <td>ROBBERY</td>\n",
       "      <td>ARMED:KNIFE/CUTTING INSTRUMENT</td>\n",
       "      <td>SIDEWALK</td>\n",
       "      <td>False</td>\n",
       "      <td>False</td>\n",
       "      <td>...</td>\n",
       "      <td>42</td>\n",
       "      <td>28</td>\n",
       "      <td>03</td>\n",
       "      <td>1173039.0</td>\n",
       "      <td>1900311.0</td>\n",
       "      <td>2011</td>\n",
       "      <td>2018-02-10 15:50:01+00:00</td>\n",
       "      <td>41.881884</td>\n",
       "      <td>-87.640060</td>\n",
       "      <td>(41.881883933, -87.640060441)</td>\n",
       "    </tr>\n",
       "  </tbody>\n",
       "</table>\n",
       "<p>3 rows × 22 columns</p>\n",
       "</div>"
      ],
      "text/plain": [
       "   unique_key case_number                      date               block  iucr  \\\n",
       "0       27642    JG350964 2023-07-22 01:41:00+00:00     000XX E LAKE ST  0110   \n",
       "1    12492868    JE386232 2021-09-22 23:59:00+00:00  002XX N WABASH AVE  0265   \n",
       "2     8124180    HT359035 2011-06-21 13:00:00+00:00  005XX W MADISON ST  0312   \n",
       "\n",
       "              primary_type                     description  \\\n",
       "0                 HOMICIDE             FIRST DEGREE MURDER   \n",
       "1  CRIMINAL SEXUAL ASSAULT              AGGRAVATED - OTHER   \n",
       "2                  ROBBERY  ARMED:KNIFE/CUTTING INSTRUMENT   \n",
       "\n",
       "  location_description  arrest  domestic  ...  ward  community_area  fbi_code  \\\n",
       "0               STREET   False     False  ...    42              32       01A   \n",
       "1        HOTEL / MOTEL   False     False  ...    42              32        02   \n",
       "2             SIDEWALK   False     False  ...    42              28        03   \n",
       "\n",
       "   x_coordinate y_coordinate  year                updated_on   latitude  \\\n",
       "0     1176905.0    1901744.0  2023 2023-07-29 15:41:00+00:00  41.885730   \n",
       "1     1176777.0    1901808.0  2021 2021-09-29 15:41:20+00:00  41.885908   \n",
       "2     1173039.0    1900311.0  2011 2018-02-10 15:50:01+00:00  41.881884   \n",
       "\n",
       "   longitude                       location  \n",
       "0 -87.625821  (41.885729587, -87.625821329)  \n",
       "1 -87.626289  (41.885908101, -87.626289429)  \n",
       "2 -87.640060  (41.881883933, -87.640060441)  \n",
       "\n",
       "[3 rows x 22 columns]"
      ]
     },
     "execution_count": 9,
     "metadata": {},
     "output_type": "execute_result"
    }
   ],
   "source": [
    "# Write the code here to explore the data so you can find the answer\n",
    "client.list_rows(table,max_results=3).to_dataframe()"
   ]
  },
  {
   "cell_type": "code",
   "execution_count": 10,
   "id": "ea4f5ae2",
   "metadata": {
    "execution": {
     "iopub.execute_input": "2024-09-03T09:18:54.001065Z",
     "iopub.status.busy": "2024-09-03T09:18:53.999809Z",
     "iopub.status.idle": "2024-09-03T09:18:54.010234Z",
     "shell.execute_reply": "2024-09-03T09:18:54.009028Z"
    },
    "papermill": {
     "duration": 0.021307,
     "end_time": "2024-09-03T09:18:54.012699",
     "exception": false,
     "start_time": "2024-09-03T09:18:53.991392",
     "status": "completed"
    },
    "tags": []
   },
   "outputs": [
    {
     "data": {
      "application/javascript": [
       "parent.postMessage({\"jupyterEvent\": \"custom.exercise_interaction\", \"data\": {\"outcomeType\": 1, \"valueTowardsCompletion\": 0.3333333333333333, \"interactionType\": 1, \"questionType\": 2, \"questionId\": \"3_IdentifyFieldsForPlotting\", \"learnToolsVersion\": \"0.3.4\", \"failureMessage\": \"\", \"exceptionClass\": \"\", \"trace\": \"\"}}, \"*\")"
      ],
      "text/plain": [
       "<IPython.core.display.Javascript object>"
      ]
     },
     "metadata": {},
     "output_type": "display_data"
    },
    {
     "data": {
      "text/markdown": [
       "<span style=\"color:#33cc33\">Correct</span>"
      ],
      "text/plain": [
       "Correct"
      ]
     },
     "metadata": {},
     "output_type": "display_data"
    }
   ],
   "source": [
    "fields_for_plotting = ['latitude','longitude'] # Put your answers here\n",
    "\n",
    "# Check your answer\n",
    "q_3.check()"
   ]
  },
  {
   "cell_type": "markdown",
   "id": "cb2a3508",
   "metadata": {
    "papermill": {
     "duration": 0.007627,
     "end_time": "2024-09-03T09:18:54.027820",
     "exception": false,
     "start_time": "2024-09-03T09:18:54.020193",
     "status": "completed"
    },
    "tags": []
   },
   "source": [
    "For a hint or the solution, uncomment the appropriate line below."
   ]
  },
  {
   "cell_type": "code",
   "execution_count": 11,
   "id": "29c22f36",
   "metadata": {
    "execution": {
     "iopub.execute_input": "2024-09-03T09:18:54.044487Z",
     "iopub.status.busy": "2024-09-03T09:18:54.044066Z",
     "iopub.status.idle": "2024-09-03T09:18:54.058414Z",
     "shell.execute_reply": "2024-09-03T09:18:54.057214Z"
    },
    "papermill": {
     "duration": 0.025828,
     "end_time": "2024-09-03T09:18:54.061077",
     "exception": false,
     "start_time": "2024-09-03T09:18:54.035249",
     "status": "completed"
    },
    "tags": []
   },
   "outputs": [
    {
     "data": {
      "application/javascript": [
       "parent.postMessage({\"jupyterEvent\": \"custom.exercise_interaction\", \"data\": {\"interactionType\": 2, \"questionType\": 2, \"questionId\": \"3_IdentifyFieldsForPlotting\", \"learnToolsVersion\": \"0.3.4\", \"valueTowardsCompletion\": 0.0, \"failureMessage\": \"\", \"exceptionClass\": \"\", \"trace\": \"\", \"outcomeType\": 4}}, \"*\")"
      ],
      "text/plain": [
       "<IPython.core.display.Javascript object>"
      ]
     },
     "metadata": {},
     "output_type": "display_data"
    },
    {
     "data": {
      "text/markdown": [
       "<span style=\"color:#3366cc\">Hint:</span> Look at the table schema.  There are a couple options, but two of the fields are things commonly used to plot on maps. Both are `'FLOAT'` types. Use quotes around the field names in your answer."
      ],
      "text/plain": [
       "Hint: Look at the table schema.  There are a couple options, but two of the fields are things commonly used to plot on maps. Both are `'FLOAT'` types. Use quotes around the field names in your answer."
      ]
     },
     "metadata": {},
     "output_type": "display_data"
    },
    {
     "data": {
      "application/javascript": [
       "parent.postMessage({\"jupyterEvent\": \"custom.exercise_interaction\", \"data\": {\"interactionType\": 3, \"questionType\": 2, \"questionId\": \"3_IdentifyFieldsForPlotting\", \"learnToolsVersion\": \"0.3.4\", \"valueTowardsCompletion\": 0.0, \"failureMessage\": \"\", \"exceptionClass\": \"\", \"trace\": \"\", \"outcomeType\": 4}}, \"*\")"
      ],
      "text/plain": [
       "<IPython.core.display.Javascript object>"
      ]
     },
     "metadata": {},
     "output_type": "display_data"
    },
    {
     "data": {
      "text/markdown": [
       "<span style=\"color:#33cc99\">Solution:</span> \n",
       "```python\n",
       "fields_for_plotting = ['latitude', 'longitude']\n",
       "```"
      ],
      "text/plain": [
       "Solution: \n",
       "```python\n",
       "fields_for_plotting = ['latitude', 'longitude']\n",
       "```"
      ]
     },
     "metadata": {},
     "output_type": "display_data"
    }
   ],
   "source": [
    "q_3.hint()\n",
    "q_3.solution()"
   ]
  },
  {
   "cell_type": "markdown",
   "id": "0639fdec",
   "metadata": {
    "papermill": {
     "duration": 0.007659,
     "end_time": "2024-09-03T09:18:54.077112",
     "exception": false,
     "start_time": "2024-09-03T09:18:54.069453",
     "status": "completed"
    },
    "tags": []
   },
   "source": [
    "Thinking about the question above, there are a few columns that appear to have geographic data. Look at a few values (with the `list_rows()` command) to see if you can determine their relationship.  Two columns will still be hard to interpret. But it should be obvious how the `location` column relates to `latitude` and `longitude`."
   ]
  },
  {
   "cell_type": "code",
   "execution_count": 12,
   "id": "8b14329b",
   "metadata": {
    "execution": {
     "iopub.execute_input": "2024-09-03T09:18:54.094704Z",
     "iopub.status.busy": "2024-09-03T09:18:54.094277Z",
     "iopub.status.idle": "2024-09-03T09:18:54.099767Z",
     "shell.execute_reply": "2024-09-03T09:18:54.098112Z"
    },
    "papermill": {
     "duration": 0.017882,
     "end_time": "2024-09-03T09:18:54.102981",
     "exception": false,
     "start_time": "2024-09-03T09:18:54.085099",
     "status": "completed"
    },
    "tags": []
   },
   "outputs": [],
   "source": [
    "# Scratch space for your code"
   ]
  },
  {
   "cell_type": "markdown",
   "id": "722bcc27",
   "metadata": {
    "papermill": {
     "duration": 0.008945,
     "end_time": "2024-09-03T09:18:54.121105",
     "exception": false,
     "start_time": "2024-09-03T09:18:54.112160",
     "status": "completed"
    },
    "tags": []
   },
   "source": [
    "# Keep going\n",
    "\n",
    "You've looked at the schema, but you haven't yet done anything exciting with the data itself. Things get more interesting when you get to the data, so keep going to **[write your first SQL query](https://www.kaggle.com/dansbecker/select-from-where).**"
   ]
  },
  {
   "cell_type": "markdown",
   "id": "825ba33b",
   "metadata": {
    "papermill": {
     "duration": 0.008811,
     "end_time": "2024-09-03T09:18:54.138429",
     "exception": false,
     "start_time": "2024-09-03T09:18:54.129618",
     "status": "completed"
    },
    "tags": []
   },
   "source": [
    "---\n",
    "\n",
    "\n",
    "\n",
    "\n",
    "*Have questions or comments? Visit the [course discussion forum](https://www.kaggle.com/learn/intro-to-sql/discussion) to chat with other learners.*"
   ]
  }
 ],
 "metadata": {
  "kaggle": {
   "accelerator": "none",
   "dataSources": [
    {
     "datasetId": 22090,
     "sourceId": 28376,
     "sourceType": "datasetVersion"
    },
    {
     "datasetId": 6057,
     "sourceId": 285982,
     "sourceType": "datasetVersion"
    }
   ],
   "isGpuEnabled": false,
   "isInternetEnabled": false,
   "language": "python",
   "sourceType": "notebook"
  },
  "kernelspec": {
   "display_name": "Python 3",
   "language": "python",
   "name": "python3"
  },
  "language_info": {
   "codemirror_mode": {
    "name": "ipython",
    "version": 3
   },
   "file_extension": ".py",
   "mimetype": "text/x-python",
   "name": "python",
   "nbconvert_exporter": "python",
   "pygments_lexer": "ipython3",
   "version": "3.10.14"
  },
  "papermill": {
   "default_parameters": {},
   "duration": 18.125367,
   "end_time": "2024-09-03T09:18:54.972409",
   "environment_variables": {},
   "exception": null,
   "input_path": "__notebook__.ipynb",
   "output_path": "__notebook__.ipynb",
   "parameters": {},
   "start_time": "2024-09-03T09:18:36.847042",
   "version": "2.6.0"
  }
 },
 "nbformat": 4,
 "nbformat_minor": 5
}
